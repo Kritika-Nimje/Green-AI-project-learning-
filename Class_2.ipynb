{
 "cells": [
  {
   "cell_type": "markdown",
   "id": "32fb2885-24aa-4871-b79c-b5899a65ed5d",
   "metadata": {
    "jp-MarkdownHeadingCollapsed": true
   },
   "source": []
  },
  {
   "cell_type": "code",
   "execution_count": 2,
   "id": "409757ed-9359-4696-a518-ac61d1e47609",
   "metadata": {},
   "outputs": [],
   "source": [
    "#Functions "
   ]
  },
  {
   "cell_type": "code",
   "execution_count": 3,
   "id": "99426730-bac6-42ad-9a7a-d3adca409866",
   "metadata": {},
   "outputs": [
    {
     "name": "stdout",
     "output_type": "stream",
     "text": [
      "Hello\n",
      "Glad you meet\n"
     ]
    }
   ],
   "source": [
    "def hello():\n",
    "    \"\"\"hello\"\"\"\n",
    "    print(\"Hello\")\n",
    "    print(\"Glad you meet\")\n",
    "hello()"
   ]
  },
  {
   "cell_type": "code",
   "execution_count": 4,
   "id": "64f3f086-b99b-4609-bb25-53c196f90184",
   "metadata": {},
   "outputs": [
    {
     "name": "stdout",
     "output_type": "stream",
     "text": [
      "9\n"
     ]
    }
   ],
   "source": [
    "def sq(num):\n",
    "    result = num *num \n",
    "    return result\n",
    "\n",
    "square = sq(3)\n",
    "print(square)"
   ]
  },
  {
   "cell_type": "code",
   "execution_count": 5,
   "id": "4db0360e-259f-4370-9948-b38bce0ff697",
   "metadata": {},
   "outputs": [],
   "source": [
    "func = lambda x, y:x+y"
   ]
  },
  {
   "cell_type": "code",
   "execution_count": 6,
   "id": "106c96d4-38dc-480b-b50f-e9862b5f5f54",
   "metadata": {},
   "outputs": [
    {
     "name": "stdout",
     "output_type": "stream",
     "text": [
      "15\n"
     ]
    }
   ],
   "source": [
    "x = lambda a: a+10\n",
    "print(x(5))"
   ]
  },
  {
   "cell_type": "code",
   "execution_count": 7,
   "id": "415fd6ed-5bd4-426c-811f-6feda13de990",
   "metadata": {},
   "outputs": [],
   "source": [
    "def calculate_carbon_footprint(energy_consumption, emission_factor):\n",
    "    return energy_consumption * emission_factor"
   ]
  },
  {
   "cell_type": "code",
   "execution_count": 8,
   "id": "8bf25a9b-387a-47c1-af49-f5c0f59d8a7c",
   "metadata": {},
   "outputs": [
    {
     "name": "stdout",
     "output_type": "stream",
     "text": [
      "Carbon Footprint: 475.0 kg CO2\n"
     ]
    }
   ],
   "source": [
    "energy_consumption = 1000\n",
    "emission_factor = 0.475\n",
    "\n",
    "carbon_footprint =calculate_carbon_footprint(energy_consumption, emission_factor)\n",
    "print(f\"Carbon Footprint: {carbon_footprint} kg CO2\")"
   ]
  },
  {
   "cell_type": "code",
   "execution_count": 9,
   "id": "40c0fec5-20f8-48cd-8008-22e07745e718",
   "metadata": {},
   "outputs": [
    {
     "name": "stdout",
     "output_type": "stream",
     "text": [
      "Sustainable Cities\n",
      "City B\n"
     ]
    }
   ],
   "source": [
    "cities = [\n",
    "    {\"name\": \"City A\", \"carbon_footprint\" :500},\n",
    "    { \"name\": \"City B\", \"carbon_footprint\" :119},\n",
    "    { \"name\": \"City C\", \"carbon_footprint\" :504},\n",
    "    { \"name\": \"City D\", \"carbon_footprint\" :590},\n",
    "    { \"name\": \"City E\", \"carbon_footprint\" :440}\n",
    "     ]\n",
    "\n",
    "sustainable_threshold = 400\n",
    "sustainable_cities = list(filter(lambda city: city[\"carbon_footprint\"] < sustainable_threshold, cities))\n",
    "\n",
    "print(\"Sustainable Cities\")\n",
    "for city in sustainable_cities:\n",
    "    print(city[\"name\"])\n",
    "                            \n",
    "\n"
   ]
  },
  {
   "cell_type": "code",
   "execution_count": 10,
   "id": "0bb924cc-5329-4430-a4a4-92867b2df306",
   "metadata": {},
   "outputs": [],
   "source": [
    "import pandas as pd\n",
    "\n",
    "#Sample renewable energy sources data\n",
    "renewable_sources = [\"Solar\", \"Wind\", \"Hydropower\", \"Geothermal\", \"Biomass\"]\n",
    "\n",
    "#Sample green technology project data (for DataFrame)\n",
    "data = {\n",
    "    \"Prject\": [\"Solar Farm A\", \"Wind Turbine X\", \"Hydropower Y\", \"Solar Roof Z\", \"Geothermal Plant P\"],\n",
    "    \"Technology\": [\"Solar\", \"Wind\", \"Hydropower\", \"Solar\", \"Geothermal\"],\n",
    "    \"Capacity (MW)\": [150, 300, 200, 50, 100], # Megawatts\n",
    "    \"Cost (Million $)\": [200, 400, 350, 100, 250], # Project cost\n",
    "    \"Location\": [\"California\", \"Texas\", \"Washington\", \"Nevada\", \"Idaho\"],\n",
    "    \"Completion Year\": [2023, 2024, 2022, 2025, 2023]\n",
    "}"
   ]
  },
  {
   "cell_type": "code",
   "execution_count": 11,
   "id": "bfd084d9-b90a-4359-bfeb-6a13739882cf",
   "metadata": {},
   "outputs": [
    {
     "name": "stdout",
     "output_type": "stream",
     "text": [
      "Green Technology Project DataFrame:\n"
     ]
    },
    {
     "data": {
      "text/html": [
       "<div>\n",
       "<style scoped>\n",
       "    .dataframe tbody tr th:only-of-type {\n",
       "        vertical-align: middle;\n",
       "    }\n",
       "\n",
       "    .dataframe tbody tr th {\n",
       "        vertical-align: top;\n",
       "    }\n",
       "\n",
       "    .dataframe thead th {\n",
       "        text-align: right;\n",
       "    }\n",
       "</style>\n",
       "<table border=\"1\" class=\"dataframe\">\n",
       "  <thead>\n",
       "    <tr style=\"text-align: right;\">\n",
       "      <th></th>\n",
       "      <th>Prject</th>\n",
       "      <th>Technology</th>\n",
       "      <th>Capacity (MW)</th>\n",
       "      <th>Cost (Million $)</th>\n",
       "      <th>Location</th>\n",
       "      <th>Completion Year</th>\n",
       "    </tr>\n",
       "  </thead>\n",
       "  <tbody>\n",
       "    <tr>\n",
       "      <th>0</th>\n",
       "      <td>Solar Farm A</td>\n",
       "      <td>Solar</td>\n",
       "      <td>150</td>\n",
       "      <td>200</td>\n",
       "      <td>California</td>\n",
       "      <td>2023</td>\n",
       "    </tr>\n",
       "    <tr>\n",
       "      <th>1</th>\n",
       "      <td>Wind Turbine X</td>\n",
       "      <td>Wind</td>\n",
       "      <td>300</td>\n",
       "      <td>400</td>\n",
       "      <td>Texas</td>\n",
       "      <td>2024</td>\n",
       "    </tr>\n",
       "    <tr>\n",
       "      <th>2</th>\n",
       "      <td>Hydropower Y</td>\n",
       "      <td>Hydropower</td>\n",
       "      <td>200</td>\n",
       "      <td>350</td>\n",
       "      <td>Washington</td>\n",
       "      <td>2022</td>\n",
       "    </tr>\n",
       "    <tr>\n",
       "      <th>3</th>\n",
       "      <td>Solar Roof Z</td>\n",
       "      <td>Solar</td>\n",
       "      <td>50</td>\n",
       "      <td>100</td>\n",
       "      <td>Nevada</td>\n",
       "      <td>2025</td>\n",
       "    </tr>\n",
       "    <tr>\n",
       "      <th>4</th>\n",
       "      <td>Geothermal Plant P</td>\n",
       "      <td>Geothermal</td>\n",
       "      <td>100</td>\n",
       "      <td>250</td>\n",
       "      <td>Idaho</td>\n",
       "      <td>2023</td>\n",
       "    </tr>\n",
       "  </tbody>\n",
       "</table>\n",
       "</div>"
      ],
      "text/plain": [
       "               Prject  Technology  Capacity (MW)  Cost (Million $)  \\\n",
       "0        Solar Farm A       Solar            150               200   \n",
       "1      Wind Turbine X        Wind            300               400   \n",
       "2        Hydropower Y  Hydropower            200               350   \n",
       "3        Solar Roof Z       Solar             50               100   \n",
       "4  Geothermal Plant P  Geothermal            100               250   \n",
       "\n",
       "     Location  Completion Year  \n",
       "0  California             2023  \n",
       "1       Texas             2024  \n",
       "2  Washington             2022  \n",
       "3      Nevada             2025  \n",
       "4       Idaho             2023  "
      ]
     },
     "execution_count": 11,
     "metadata": {},
     "output_type": "execute_result"
    }
   ],
   "source": [
    "projects_df = pd.DataFrame(data)\n",
    "print(\"Green Technology Project DataFrame:\")\n",
    "projects_df"
   ]
  },
  {
   "cell_type": "code",
   "execution_count": 12,
   "id": "35b8b704-7804-4fdb-8a3a-228ab634bc5e",
   "metadata": {},
   "outputs": [
    {
     "name": "stdout",
     "output_type": "stream",
     "text": [
      "\n",
      "List of the Projects:\n",
      "0          Solar Farm A\n",
      "1        Wind Turbine X\n",
      "2          Hydropower Y\n",
      "3          Solar Roof Z\n",
      "4    Geothermal Plant P\n",
      "Name: Prject, dtype: object\n"
     ]
    }
   ],
   "source": [
    "#access the project column\n",
    "print(\"\\nList of the Projects:\")\n",
    "print(projects_df[\"Prject\"])"
   ]
  },
  {
   "cell_type": "code",
   "execution_count": 13,
   "id": "d807f110-4633-4213-96c5-1fe96aae8f96",
   "metadata": {},
   "outputs": [
    {
     "name": "stdout",
     "output_type": "stream",
     "text": [
      "0         Solar\n",
      "1          Wind\n",
      "2    Hydropower\n",
      "3         Solar\n",
      "4    Geothermal\n",
      "Name: Technology, dtype: object\n"
     ]
    }
   ],
   "source": [
    "print(projects_df[\"Technology\"])"
   ]
  },
  {
   "cell_type": "code",
   "execution_count": 14,
   "id": "8934b089-981d-45af-912f-a700596097fe",
   "metadata": {},
   "outputs": [
    {
     "name": "stdout",
     "output_type": "stream",
     "text": [
      "               Prject  Technology\n",
      "0        Solar Farm A       Solar\n",
      "1      Wind Turbine X        Wind\n",
      "2        Hydropower Y  Hydropower\n",
      "3        Solar Roof Z       Solar\n",
      "4  Geothermal Plant P  Geothermal\n"
     ]
    }
   ],
   "source": [
    "print(projects_df[[\"Prject\",\"Technology\"]])"
   ]
  },
  {
   "cell_type": "code",
   "execution_count": 15,
   "id": "eb3a5a0c-b84b-48ed-9e3f-a9e3e9ac84e1",
   "metadata": {},
   "outputs": [
    {
     "name": "stdout",
     "output_type": "stream",
     "text": [
      "\n",
      "Projects with capacity greater than 100Mw:\n",
      "           Prject  Technology  Capacity (MW)  Cost (Million $)    Location  \\\n",
      "0    Solar Farm A       Solar            150               200  California   \n",
      "1  Wind Turbine X        Wind            300               400       Texas   \n",
      "2    Hydropower Y  Hydropower            200               350  Washington   \n",
      "\n",
      "   Completion Year  \n",
      "0             2023  \n",
      "1             2024  \n",
      "2             2022  \n"
     ]
    }
   ],
   "source": [
    "#Filter projects with cpacity greater than 100 MW\n",
    "high_capacity_projects = projects_df[projects_df[\"Capacity (MW)\"]>100]\n",
    "print(\"\\nProjects with capacity greater than 100Mw:\")\n",
    "print(high_capacity_projects)"
   ]
  },
  {
   "cell_type": "code",
   "execution_count": 16,
   "id": "5d3dc38e-7fe2-48e7-a3ed-cae5f0f6ef14",
   "metadata": {},
   "outputs": [
    {
     "name": "stdout",
     "output_type": "stream",
     "text": [
      "\n",
      "Dataframe with Cost per MW:\n",
      "               Prject  Technology  Capacity (MW)  Cost (Million $)  \\\n",
      "0        Solar Farm A       Solar            150               200   \n",
      "1      Wind Turbine X        Wind            300               400   \n",
      "2        Hydropower Y  Hydropower            200               350   \n",
      "3        Solar Roof Z       Solar             50               100   \n",
      "4  Geothermal Plant P  Geothermal            100               250   \n",
      "\n",
      "     Location  Completion Year  Cost per MW  \n",
      "0  California             2023     1.333333  \n",
      "1       Texas             2024     1.333333  \n",
      "2  Washington             2022     1.750000  \n",
      "3      Nevada             2025     2.000000  \n",
      "4       Idaho             2023     2.500000  \n"
     ]
    }
   ],
   "source": [
    "#Add a new column for cost per MW\n",
    "projects_df[\"Cost per MW\"] = projects_df[\"Cost (Million $)\"] / projects_df[\"Capacity (MW)\"]\n",
    "print(\"\\nDataframe with Cost per MW:\")\n",
    "print(projects_df)"
   ]
  },
  {
   "cell_type": "code",
   "execution_count": 17,
   "id": "058b7d2f-b42a-482c-a554-cfa320980189",
   "metadata": {},
   "outputs": [
    {
     "name": "stdout",
     "output_type": "stream",
     "text": [
      "\n",
      "Total Capacity of all projects: 800 MW\n",
      "Total cost of all projects: $1300 million\n"
     ]
    }
   ],
   "source": [
    "#Aggregate the total capacity and cost\n",
    "total_capacity = projects_df[\"Capacity (MW)\"].sum()\n",
    "total_cost = projects_df[\"Cost (Million $)\"].sum()\n",
    "\n",
    "print(f\"\\nTotal Capacity of all projects: {total_capacity} MW\")\n",
    "print(f\"Total cost of all projects: ${total_cost} million\")"
   ]
  },
  {
   "cell_type": "code",
   "execution_count": 18,
   "id": "10b7a214-6a74-4446-8bdc-51e157ef0f1e",
   "metadata": {},
   "outputs": [
    {
     "name": "stdout",
     "output_type": "stream",
     "text": [
      "\n",
      "Total capacity by technology:\n",
      "Technology\n",
      "Geothermal    100\n",
      "Hydropower    200\n",
      "Solar         200\n",
      "Wind          300\n",
      "Name: Capacity (MW), dtype: int64\n"
     ]
    }
   ],
   "source": [
    "#group by 'Technology' and calaculate total capacity for each type\n",
    "grouped_data = projects_df.groupby(\"Technology\")[\"Capacity (MW)\"].sum()\n",
    "print(\"\\nTotal capacity by technology:\")\n",
    "print(grouped_data)"
   ]
  },
  {
   "cell_type": "code",
   "execution_count": 19,
   "id": "46189972-4e03-483f-afe6-b3ade3ff4031",
   "metadata": {},
   "outputs": [
    {
     "name": "stdout",
     "output_type": "stream",
     "text": [
      "[0 1 2 3]\n",
      "<class 'numpy.ndarray'>\n",
      "1\n",
      "(4,)\n",
      "4\n"
     ]
    }
   ],
   "source": [
    "import numpy as np\n",
    "a = np.array([0,1,2,3])\n",
    "print(a)\n",
    "print(type(a))\n",
    "print(a.ndim)\n",
    "print(a.shape)\n",
    "print(len(a))"
   ]
  },
  {
   "cell_type": "code",
   "execution_count": 20,
   "id": "ed0368cd-f329-40cf-82fd-ab96842a3c7e",
   "metadata": {},
   "outputs": [
    {
     "data": {
      "text/plain": [
       "array([[1, 2, 3],\n",
       "       [4, 5, 6],\n",
       "       [7, 8, 9]])"
      ]
     },
     "execution_count": 20,
     "metadata": {},
     "output_type": "execute_result"
    }
   ],
   "source": [
    "import numpy as np \n",
    "mylist = [[1,2,3],[4,5,6],[7,8,9]]\n",
    "np.array(mylist)"
   ]
  },
  {
   "cell_type": "code",
   "execution_count": 21,
   "id": "2cba5bed-eddb-41a6-9c36-782cc557503e",
   "metadata": {},
   "outputs": [
    {
     "name": "stdout",
     "output_type": "stream",
     "text": [
      "[12 13 14 15 16 25]\n"
     ]
    }
   ],
   "source": [
    "e_c = np.array([12,13,14,15,16,25])\n",
    "print(e_c)"
   ]
  },
  {
   "cell_type": "code",
   "execution_count": 22,
   "id": "e7aa8d97-acd2-4d5f-b992-4c5fdcdee100",
   "metadata": {},
   "outputs": [
    {
     "name": "stdout",
     "output_type": "stream",
     "text": [
      "15.83\n"
     ]
    }
   ],
   "source": [
    "mn = np.mean(e_c)\n",
    "print(f\"{mn:.2f}\")"
   ]
  },
  {
   "cell_type": "code",
   "execution_count": 23,
   "id": "8960ee23-48bd-458b-a2dc-8e878ef6dffb",
   "metadata": {},
   "outputs": [
    {
     "name": "stdout",
     "output_type": "stream",
     "text": [
      "\n",
      "Standard devisation of energy consumption: 4.30 MWh\n"
     ]
    }
   ],
   "source": [
    "std_deviation = np.std(e_c) # e_c = energy_consumption\n",
    "print(f\"\\nStandard devisation of energy consumption: {std_deviation:.2f} MWh\")"
   ]
  },
  {
   "cell_type": "code",
   "execution_count": 24,
   "id": "d58f8866-a59c-4e15-b5e7-9388b119c68a",
   "metadata": {},
   "outputs": [
    {
     "name": "stdout",
     "output_type": "stream",
     "text": [
      "\n",
      "Reshaped Energy Consumption array (6x1): \n",
      "[[12]\n",
      " [13]\n",
      " [14]\n",
      " [15]\n",
      " [16]\n",
      " [25]]\n"
     ]
    }
   ],
   "source": [
    "reshaped_array = e_c.reshape((6,1))\n",
    "print(\"\\nReshaped Energy Consumption array (6x1): \")\n",
    "print(reshaped_array)"
   ]
  },
  {
   "cell_type": "code",
   "execution_count": 25,
   "id": "a219ffe9-b4e7-4cf3-8e93-a30ad5d994e9",
   "metadata": {},
   "outputs": [
    {
     "name": "stdout",
     "output_type": "stream",
     "text": [
      "Original Energy Data with Missing Values:\n",
      "  Energy Source  Energy Consumption (MWh)  Cost (Million $)\n",
      "0         Solar                    1200.0            1200.0\n",
      "1          Wind                       NaN             400.0\n",
      "2    Hydropower                    2900.0               NaN\n",
      "3    Geothermal                       NaN             150.0\n",
      "4       Biomass                    2500.0             250.0\n",
      "5       Nuclear                    3200.0               NaN\n"
     ]
    }
   ],
   "source": [
    "import pandas as pd\n",
    "import numpy as np\n",
    "\n",
    "\n",
    "# Sample data with missing values\n",
    "data = {\n",
    "    \"Energy Source\": [\"Solar\", \"Wind\", \"Hydropower\", \"Geothermal\", \"Biomass\", \"Nuclear\"],\n",
    "    \"Energy Consumption (MWh)\": [1200, np.nan, 2900, np.nan, 2500, 3200],\n",
    "    \"Cost (Million $)\": [1200, 400, np.nan, 150, 250, np.nan],\n",
    "}\n",
    "\n",
    "# Create a DataFrame\n",
    "energy_df = pd.DataFrame(data)\n",
    "\n",
    "# Display the DataFrame\n",
    "print(\"Original Energy Data with Missing Values:\")\n",
    "print(energy_df)"
   ]
  },
  {
   "cell_type": "code",
   "execution_count": 26,
   "id": "8f8691e0-41f0-4f05-8179-2bbdb055946d",
   "metadata": {},
   "outputs": [
    {
     "name": "stdout",
     "output_type": "stream",
     "text": [
      "\n",
      "Data After Imputing Missing Values with Mean:\n",
      "  Energy Source  Energy Consumption (MWh)  Cost (Million $)\n",
      "0         Solar                    1200.0            1200.0\n",
      "1          Wind                    2450.0             400.0\n",
      "2    Hydropower                    2900.0             500.0\n",
      "3    Geothermal                    2450.0             150.0\n",
      "4       Biomass                    2500.0             250.0\n",
      "5       Nuclear                    3200.0             500.0\n"
     ]
    },
    {
     "name": "stderr",
     "output_type": "stream",
     "text": [
      "C:\\Users\\knimj\\AppData\\Local\\Temp\\ipykernel_5888\\612028636.py:3: FutureWarning: A value is trying to be set on a copy of a DataFrame or Series through chained assignment using an inplace method.\n",
      "The behavior will change in pandas 3.0. This inplace method will never work because the intermediate object on which we are setting values always behaves as a copy.\n",
      "\n",
      "For example, when doing 'df[col].method(value, inplace=True)', try using 'df.method({col: value}, inplace=True)' or df[col] = df[col].method(value) instead, to perform the operation inplace on the original object.\n",
      "\n",
      "\n",
      "  energy_df[\"Energy Consumption (MWh)\"].fillna(energy_df[\"Energy Consumption (MWh)\"].mean(), inplace=True)\n",
      "C:\\Users\\knimj\\AppData\\Local\\Temp\\ipykernel_5888\\612028636.py:7: FutureWarning: A value is trying to be set on a copy of a DataFrame or Series through chained assignment using an inplace method.\n",
      "The behavior will change in pandas 3.0. This inplace method will never work because the intermediate object on which we are setting values always behaves as a copy.\n",
      "\n",
      "For example, when doing 'df[col].method(value, inplace=True)', try using 'df.method({col: value}, inplace=True)' or df[col] = df[col].method(value) instead, to perform the operation inplace on the original object.\n",
      "\n",
      "\n",
      "  energy_df[\"Cost (Million $)\"].fillna(energy_df[\"Cost (Million $)\"].mean(), inplace=True)\n"
     ]
    }
   ],
   "source": [
    "#Impute missing values in 'Energy Consumption (MWh)' with the mean\n",
    "\n",
    "energy_df[\"Energy Consumption (MWh)\"].fillna(energy_df[\"Energy Consumption (MWh)\"].mean(), inplace=True)\n",
    "\n",
    "#Impute missing values in 'Cost (Million $) with the mean\n",
    "\n",
    "energy_df[\"Cost (Million $)\"].fillna(energy_df[\"Cost (Million $)\"].mean(), inplace=True)\n",
    "\n",
    "print(\"\\nData After Imputing Missing Values with Mean:\")\n",
    "\n",
    "print(energy_df)"
   ]
  },
  {
   "cell_type": "raw",
   "id": "6ce52a74-65aa-4e0a-abaa-74a92ef9e5b3",
   "metadata": {},
   "source": []
  },
  {
   "cell_type": "code",
   "execution_count": 27,
   "id": "eccf2779-1691-4501-8c5a-0ca700d4c346",
   "metadata": {},
   "outputs": [
    {
     "name": "stdout",
     "output_type": "stream",
     "text": [
      "\n",
      "Data with Missing Values Flagged:\n",
      "  Energy Source  Energy Consumption (MWh)  Cost (Million $)  \\\n",
      "0         Solar                    1200.0            1200.0   \n",
      "1          Wind                    2450.0             400.0   \n",
      "2    Hydropower                    2900.0             500.0   \n",
      "3    Geothermal                    2450.0             150.0   \n",
      "4       Biomass                    2500.0             250.0   \n",
      "5       Nuclear                    3200.0             500.0   \n",
      "\n",
      "   Missing Consumption  \n",
      "0                    0  \n",
      "1                    0  \n",
      "2                    0  \n",
      "3                    0  \n",
      "4                    0  \n",
      "5                    0  \n"
     ]
    }
   ],
   "source": [
    "energy_df[\"Missing Consumption\"] = energy_df[\"Energy Consumption (MWh)\"].isna().astype(int)\n",
    "\n",
    "print(\"\\nData with Missing Values Flagged:\")\n",
    "\n",
    "print(energy_df)"
   ]
  },
  {
   "cell_type": "code",
   "execution_count": 28,
   "id": "6d7fe054-ef96-4686-bab8-76757507fd41",
   "metadata": {},
   "outputs": [
    {
     "name": "stdout",
     "output_type": "stream",
     "text": [
      "\n",
      "Data After Normalization (Min-Max Scaling):\n",
      "  Energy Source  Energy Consumption (MWh)  Cost (Million $)  \\\n",
      "0         Solar                     0.000          1.000000   \n",
      "1          Wind                     0.625          0.238095   \n",
      "2    Hydropower                     0.850          0.333333   \n",
      "3    Geothermal                     0.625          0.000000   \n",
      "4       Biomass                     0.650          0.095238   \n",
      "5       Nuclear                     1.000          0.333333   \n",
      "\n",
      "   Missing Consumption  \n",
      "0                    0  \n",
      "1                    0  \n",
      "2                    0  \n",
      "3                    0  \n",
      "4                    0  \n",
      "5                    0  \n"
     ]
    }
   ],
   "source": [
    "from sklearn.preprocessing import MinMaxScaler\n",
    "\n",
    "#Normalize the 'Energy Consumption (MWh) and \"Cost (Million $)'\n",
    "\n",
    "scaler = MinMaxScaler()\n",
    "\n",
    "energy_df[[\"Energy Consumption (MWh)\", \"Cost (Million $)\"]] = scaler.fit_transform(\n",
    "\n",
    "energy_df [[\"Energy Consumption (MWh)\", \"Cost (Million $)\"]]\n",
    "\n",
    ")\n",
    "\n",
    "print(\"\\nData After Normalization (Min-Max Scaling):\")\n",
    "\n",
    "print(energy_df)"
   ]
  },
  {
   "cell_type": "code",
   "execution_count": 29,
   "id": "213d9b25-4ac5-4441-9140-7476168baf8d",
   "metadata": {},
   "outputs": [
    {
     "name": "stdout",
     "output_type": "stream",
     "text": [
      "\n",
      "Data After Standardization (Z-score Scaling):\n",
      "  Energy Source  Energy Consumption (MWh)  Cost (Million $)  \\\n",
      "0         Solar             -2.005893e+00          2.071707   \n",
      "1          Wind              3.563181e-16         -0.295958   \n",
      "2    Hydropower              7.221213e-01          0.000000   \n",
      "3    Geothermal              3.563181e-16         -1.035854   \n",
      "4       Biomass              8.023570e-02         -0.739895   \n",
      "5       Nuclear              1.203536e+00          0.000000   \n",
      "\n",
      "   Missing Consumption  \n",
      "0                    0  \n",
      "1                    0  \n",
      "2                    0  \n",
      "3                    0  \n",
      "4                    0  \n",
      "5                    0  \n"
     ]
    }
   ],
   "source": [
    "from sklearn.preprocessing import StandardScaler\n",
    "\n",
    "# Standardize the 'Energy Consumption (MWh)' and 'Cost (Million $)'\n",
    "\n",
    "scaler = StandardScaler()\n",
    "\n",
    "energy_df [[\"Energy Consumption (MWh)\", \"Cost (Million $)\"]] =scaler.fit_transform(\n",
    "\n",
    "energy_df [[\"Energy Consumption (MWh)\", \"Cost (Million $)\"]]\n",
    "\n",
    ")\n",
    "\n",
    "print(\"\\nData After Standardization (Z-score Scaling):\")\n",
    "\n",
    "print(energy_df)"
   ]
  },
  {
   "cell_type": "code",
   "execution_count": 30,
   "id": "33de2ec4-2ade-446d-a6e3-5d8e8e7e9219",
   "metadata": {},
   "outputs": [
    {
     "name": "stdout",
     "output_type": "stream",
     "text": [
      "\n",
      "Data After One-Hot Encoding Categorical Variables:\n",
      "   Energy Consumption (MWh)  Cost (Million $)  Missing Consumption  \\\n",
      "0             -2.005893e+00          2.071707                    0   \n",
      "1              3.563181e-16         -0.295958                    0   \n",
      "2              7.221213e-01          0.000000                    0   \n",
      "3              3.563181e-16         -1.035854                    0   \n",
      "4              8.023570e-02         -0.739895                    0   \n",
      "5              1.203536e+00          0.000000                    0   \n",
      "\n",
      "   Energy Source_Biomass  Energy Source_Geothermal  Energy Source_Hydropower  \\\n",
      "0                  False                     False                     False   \n",
      "1                  False                     False                     False   \n",
      "2                  False                     False                      True   \n",
      "3                  False                      True                     False   \n",
      "4                   True                     False                     False   \n",
      "5                  False                     False                     False   \n",
      "\n",
      "   Energy Source_Nuclear  Energy Source_Solar  Energy Source_Wind  \n",
      "0                  False                 True               False  \n",
      "1                  False                False                True  \n",
      "2                  False                False               False  \n",
      "3                  False                False               False  \n",
      "4                  False                False               False  \n",
      "5                   True                False               False  \n"
     ]
    }
   ],
   "source": [
    "# One-hot encode the 'Energy Source' column\n",
    "\n",
    "energy_encoded_df = pd.get_dummies (energy_df, columns=[\"Energy Source\"])\n",
    "\n",
    "print(\"\\nData After One-Hot Encoding Categorical Variables:\")\n",
    "\n",
    "print(energy_encoded_df)"
   ]
  },
  {
   "cell_type": "code",
   "execution_count": 31,
   "id": "840aa8d4-4e4a-4eee-a7b5-0f306738facc",
   "metadata": {},
   "outputs": [
    {
     "name": "stdout",
     "output_type": "stream",
     "text": [
      "\n",
      "Data with New Feature (Consumption per $Million):\n",
      "  Energy Source  Energy Consumption (MWh)  Cost (Million $)  \\\n",
      "0         Solar             -2.005893e+00          2.071707   \n",
      "1          Wind              3.563181e-16         -0.295958   \n",
      "2    Hydropower              7.221213e-01          0.000000   \n",
      "3    Geothermal              3.563181e-16         -1.035854   \n",
      "4       Biomass              8.023570e-02         -0.739895   \n",
      "5       Nuclear              1.203536e+00          0.000000   \n",
      "\n",
      "   Missing Consumption  Consumption per $Million  \n",
      "0                    0             -9.682317e-01  \n",
      "1                    0             -1.203948e-15  \n",
      "2                    0                       inf  \n",
      "3                    0             -3.439850e-16  \n",
      "4                    0             -1.084420e-01  \n",
      "5                    0                       inf  \n"
     ]
    }
   ],
   "source": [
    "# Create a new feature: Energy Consumption per Million $\n",
    "energy_df[\"Consumption per $Million\"] = energy_df[\"Energy Consumption (MWh)\"] / energy_df[\"Cost (Million $)\"]\n",
    "\n",
    "print(\"\\nData with New Feature (Consumption per $Million):\")\n",
    "print(energy_df)"
   ]
  },
  {
   "cell_type": "code",
   "execution_count": null,
   "id": "5a47739a",
   "metadata": {},
   "outputs": [],
   "source": []
  }
 ],
 "metadata": {
  "kernelspec": {
   "display_name": "base",
   "language": "python",
   "name": "python3"
  },
  "language_info": {
   "codemirror_mode": {
    "name": "ipython",
    "version": 3
   },
   "file_extension": ".py",
   "mimetype": "text/x-python",
   "name": "python",
   "nbconvert_exporter": "python",
   "pygments_lexer": "ipython3",
   "version": "3.12.7"
  }
 },
 "nbformat": 4,
 "nbformat_minor": 5
}
