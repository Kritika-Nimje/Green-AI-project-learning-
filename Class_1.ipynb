{
 "cells": [
  {
   "cell_type": "code",
   "execution_count": 1,
   "id": "b558a319-7f39-4645-9082-b180a611793b",
   "metadata": {},
   "outputs": [],
   "source": [
    "#SINGLE LINE COMMENT line "
   ]
  },
  {
   "cell_type": "code",
   "execution_count": 3,
   "id": "fc09f177-f972-4154-81c5-2818a6f0c8bb",
   "metadata": {},
   "outputs": [
    {
     "name": "stdout",
     "output_type": "stream",
     "text": [
      "Hello Stechies\n"
     ]
    }
   ],
   "source": [
    "print('Hello Stechies')"
   ]
  },
  {
   "cell_type": "code",
   "execution_count": 5,
   "id": "2da25fed-fcf5-450b-9c8e-27c2d59be6a2",
   "metadata": {},
   "outputs": [
    {
     "data": {
      "text/plain": [
       "\"Pytheon program to explain multiple line comment \\nprint('hello')\""
      ]
     },
     "execution_count": 5,
     "metadata": {},
     "output_type": "execute_result"
    }
   ],
   "source": [
    "'''Pytheon program to explain multiple line comment \n",
    "print('hello')'''"
   ]
  },
  {
   "cell_type": "code",
   "execution_count": 7,
   "id": "698219af-e835-495a-8c8e-f0daee453087",
   "metadata": {},
   "outputs": [
    {
     "data": {
      "text/plain": [
       "\" \\nPython program to explain the multiple \\nline program\\nprint('Hello')\""
      ]
     },
     "execution_count": 7,
     "metadata": {},
     "output_type": "execute_result"
    }
   ],
   "source": [
    "\"\"\" \n",
    "Python program to explain the multiple \n",
    "line program\n",
    "print('Hello')\"\"\""
   ]
  },
  {
   "cell_type": "code",
   "execution_count": 9,
   "id": "a0f8a272-952f-4002-b149-e7118062b222",
   "metadata": {},
   "outputs": [
    {
     "name": "stdout",
     "output_type": "stream",
     "text": [
      "hello\n"
     ]
    }
   ],
   "source": [
    "print(\"hello\")"
   ]
  },
  {
   "cell_type": "code",
   "execution_count": 11,
   "id": "a646cd1c-a9a1-4c35-8463-17b380c4c82c",
   "metadata": {},
   "outputs": [],
   "source": [
    "#Multiple assignment in one line \n",
    "x, y, z = 1,2,3"
   ]
  },
  {
   "cell_type": "code",
   "execution_count": 13,
   "id": "be21b942-550a-4110-ba36-857cfa3e4d3c",
   "metadata": {},
   "outputs": [],
   "source": [
    "#unpacking \n",
    "numbers = (4,5,6)\n",
    "a, b, c = numbers"
   ]
  },
  {
   "cell_type": "code",
   "execution_count": 15,
   "id": "60bf1b05-4b0c-4883-bc73-e92d5bfbd8b4",
   "metadata": {},
   "outputs": [
    {
     "name": "stdout",
     "output_type": "stream",
     "text": [
      "(4, 5, 6)\n"
     ]
    }
   ],
   "source": [
    "print(numbers)"
   ]
  },
  {
   "cell_type": "code",
   "execution_count": 17,
   "id": "544d6ed8-1387-4daf-8b05-3011c7eb168a",
   "metadata": {},
   "outputs": [
    {
     "name": "stdout",
     "output_type": "stream",
     "text": [
      "Type of a:  <class 'int'>\n"
     ]
    }
   ],
   "source": [
    "a = 5\n",
    "print(\"Type of a: \", type(a))"
   ]
  },
  {
   "cell_type": "code",
   "execution_count": 19,
   "id": "ee8fce4e-65cb-41fa-a44c-713356e3c7cf",
   "metadata": {},
   "outputs": [
    {
     "name": "stdout",
     "output_type": "stream",
     "text": [
      "Type of b:  <class 'float'>\n"
     ]
    }
   ],
   "source": [
    "b = 5.0\n",
    "print(\"Type of b: \", type(b))"
   ]
  },
  {
   "cell_type": "code",
   "execution_count": 23,
   "id": "40ab7f1d-d9be-4168-a041-321a6bbc69ac",
   "metadata": {},
   "outputs": [
    {
     "name": "stdout",
     "output_type": "stream",
     "text": [
      "Type of c:  <class 'complex'>\n"
     ]
    }
   ],
   "source": [
    "c = 2 + 5j\n",
    "print(\"Type of c: \",type(c))"
   ]
  },
  {
   "cell_type": "code",
   "execution_count": 27,
   "id": "fb7b04d0-7fd9-4aa8-a8c5-38eeac275287",
   "metadata": {},
   "outputs": [
    {
     "name": "stdout",
     "output_type": "stream",
     "text": [
      "<class 'bool'>\n",
      "<class 'bool'>\n"
     ]
    },
    {
     "ename": "NameError",
     "evalue": "name 'true' is not defined",
     "output_type": "error",
     "traceback": [
      "\u001b[1;31m---------------------------------------------------------------------------\u001b[0m",
      "\u001b[1;31mNameError\u001b[0m                                 Traceback (most recent call last)",
      "Cell \u001b[1;32mIn[27], line 3\u001b[0m\n\u001b[0;32m      1\u001b[0m \u001b[38;5;28mprint\u001b[39m(\u001b[38;5;28mtype\u001b[39m(\u001b[38;5;28;01mTrue\u001b[39;00m))\n\u001b[0;32m      2\u001b[0m \u001b[38;5;28mprint\u001b[39m(\u001b[38;5;28mtype\u001b[39m(\u001b[38;5;28;01mFalse\u001b[39;00m))\n\u001b[1;32m----> 3\u001b[0m \u001b[38;5;28mprint\u001b[39m(\u001b[38;5;28mtype\u001b[39m(\u001b[43mtrue\u001b[49m)) \u001b[38;5;66;03m# case sensitive \u001b[39;00m\n",
      "\u001b[1;31mNameError\u001b[0m: name 'true' is not defined"
     ]
    }
   ],
   "source": [
    "print(type(True))\n",
    "print(type(False))\n",
    "print(type(true)) # case sensitive "
   ]
  },
  {
   "cell_type": "code",
   "execution_count": 29,
   "id": "6174ae49-b3fb-448b-aa66-4732a98957ae",
   "metadata": {},
   "outputs": [
    {
     "data": {
      "text/plain": [
       "0"
      ]
     },
     "execution_count": 29,
     "metadata": {},
     "output_type": "execute_result"
    }
   ],
   "source": [
    "24%3\n"
   ]
  },
  {
   "cell_type": "code",
   "execution_count": 31,
   "id": "4858c0ae-21ae-43ef-aed7-0896c3116ad8",
   "metadata": {},
   "outputs": [
    {
     "data": {
      "text/plain": [
       "12.0"
      ]
     },
     "execution_count": 31,
     "metadata": {},
     "output_type": "execute_result"
    }
   ],
   "source": [
    "24/2\n"
   ]
  },
  {
   "cell_type": "code",
   "execution_count": 33,
   "id": "a892e491-93f7-44b3-8d79-0ff08ce14412",
   "metadata": {},
   "outputs": [
    {
     "data": {
      "text/plain": [
       "12"
      ]
     },
     "execution_count": 33,
     "metadata": {},
     "output_type": "execute_result"
    }
   ],
   "source": [
    "24//2"
   ]
  },
  {
   "cell_type": "code",
   "execution_count": 35,
   "id": "f8046567-666e-4c67-b659-dc413c3525ca",
   "metadata": {},
   "outputs": [
    {
     "data": {
      "text/plain": [
       "4"
      ]
     },
     "execution_count": 35,
     "metadata": {},
     "output_type": "execute_result"
    }
   ],
   "source": [
    "24//5"
   ]
  },
  {
   "cell_type": "code",
   "execution_count": 37,
   "id": "567591a5-30bf-45f7-a733-eb9136c8c516",
   "metadata": {},
   "outputs": [
    {
     "name": "stdin",
     "output_type": "stream",
     "text": [
      "Enter your name:  hello\n"
     ]
    }
   ],
   "source": [
    "# Take usert using \"input\" function \n",
    "name = input(\"Enter your name: \")\n"
   ]
  },
  {
   "cell_type": "code",
   "execution_count": 41,
   "id": "4b700f80-a2d9-42d3-adf4-cf7a3337e304",
   "metadata": {},
   "outputs": [
    {
     "name": "stdout",
     "output_type": "stream",
     "text": [
      "Hello, World\n"
     ]
    }
   ],
   "source": [
    "# Example of using print() to display the message \n",
    "print(\"Hello, World\")"
   ]
  },
  {
   "cell_type": "code",
   "execution_count": 43,
   "id": "6baba5f7-94dd-49b3-b19a-96a299fe3c48",
   "metadata": {},
   "outputs": [
    {
     "name": "stdout",
     "output_type": "stream",
     "text": [
      "City Name: City A\n"
     ]
    }
   ],
   "source": [
    "#creqate a string variable\n",
    "city_name = \"City A\"\n",
    " #print the value of the string variable \n",
    "print(f\"City Name: {city_name}\")"
   ]
  },
  {
   "cell_type": "code",
   "execution_count": 45,
   "id": "d84f9299-3a82-47d2-af32-5efec3192139",
   "metadata": {},
   "outputs": [
    {
     "name": "stdout",
     "output_type": "stream",
     "text": [
      "Temperature: 25°C\n"
     ]
    }
   ],
   "source": [
    "#Create and assign integer variables \n",
    "temp= 25\n",
    "print(f\"Temperature: {temp}°C\")"
   ]
  },
  {
   "cell_type": "code",
   "execution_count": 47,
   "id": "2f050e61-7be8-4dd6-b29a-d0132d893d8f",
   "metadata": {},
   "outputs": [
    {
     "name": "stdout",
     "output_type": "stream",
     "text": [
      "Carbon Footprint: 500.75 kg CO2\n"
     ]
    }
   ],
   "source": [
    "carbon_footprint = 500.75 \n",
    "print(f\"Carbon Footprint: {carbon_footprint} kg CO2\")"
   ]
  },
  {
   "cell_type": "code",
   "execution_count": 51,
   "id": "ad867ee0-a5c1-4777-971f-3ace7f71d343",
   "metadata": {},
   "outputs": [
    {
     "name": "stdout",
     "output_type": "stream",
     "text": [
      "is the city sustainable? False\n"
     ]
    }
   ],
   "source": [
    "is_sustainable = carbon_footprint<400\n",
    "print(f\"is the city sustainable? {is_sustainable}\")"
   ]
  },
  {
   "cell_type": "code",
   "execution_count": 53,
   "id": "20f5cd1d-ca0b-49d5-868e-1b53359930b2",
   "metadata": {},
   "outputs": [
    {
     "name": "stdout",
     "output_type": "stream",
     "text": [
      "Weekly Temperature: [25, 26, 27, 27, 24, 26, 30]\n"
     ]
    }
   ],
   "source": [
    "weekly_temp = [25,26,27,27,24,26,30]\n",
    "print(f\"Weekly Temperature: {weekly_temp}\")"
   ]
  },
  {
   "cell_type": "raw",
   "id": "f02ac26e-bdb8-456a-929c-03ef8d117131",
   "metadata": {},
   "source": [
    "dictiuonary "
   ]
  },
  {
   "cell_type": "code",
   "execution_count": 55,
   "id": "01765e97-e214-4cd6-a7f6-9d23b6295aba",
   "metadata": {},
   "outputs": [],
   "source": [
    "city_data = {\n",
    "    \"name\" : \"City A\",\n",
    "    \"temp\": 23,\n",
    "    \"carbon_footprint\": 500.0,\n",
    "    \"is_sustainable\" : False\n",
    "}"
   ]
  },
  {
   "cell_type": "code",
   "execution_count": 59,
   "id": "0f2b1068-a715-4774-927b-453485f86cbf",
   "metadata": {},
   "outputs": [
    {
     "name": "stdout",
     "output_type": "stream",
     "text": [
      "City data {'name': 'City A', 'temp': 23, 'carbon_footprint': 66.0, 'is_sustainable': False}\n"
     ]
    }
   ],
   "source": [
    "print(f\"City data {city_data}\")"
   ]
  },
  {
   "cell_type": "raw",
   "id": "37b1464d-40ec-4f3f-934f-c1c17c22e884",
   "metadata": {},
   "source": []
  },
  {
   "cell_type": "code",
   "execution_count": null,
   "id": "12bfad8e-59f0-42b9-acc3-e6e9e5ec9472",
   "metadata": {},
   "outputs": [],
   "source": []
  },
  {
   "cell_type": "code",
   "execution_count": 63,
   "id": "18719917-596c-4a99-81d4-e42d509a07e3",
   "metadata": {},
   "outputs": [
    {
     "name": "stdout",
     "output_type": "stream",
     "text": [
      "City Name: City B, Temperature: 30 degree Celcius, carbon Footprints: 350.8\n"
     ]
    }
   ],
   "source": [
    "city_name, temperature, carbon_footprint = \"City B\", 30, 350.8\n",
    "print(f\"City Name: {city_name}, Temperature: {temperature} degree Celcius, carbon Footprints: {carbon_footprint}\")"
   ]
  },
  {
   "cell_type": "code",
   "execution_count": 1,
   "id": "96f88983-cb70-44b8-8569-ec965f66890d",
   "metadata": {},
   "outputs": [
    {
     "name": "stdout",
     "output_type": "stream",
     "text": [
      "0\n",
      "1\n",
      "2\n",
      "3\n",
      "4\n"
     ]
    }
   ],
   "source": [
    "count = 0\n",
    "while count < 5:\n",
    "    print(count)\n",
    "    count += 1"
   ]
  },
  {
   "cell_type": "code",
   "execution_count": 3,
   "id": "4b5ad583-b605-40d8-8bf6-997cd36048e7",
   "metadata": {},
   "outputs": [
    {
     "name": "stdin",
     "output_type": "stream",
     "text": [
      "Enter something (type 'quit' to stop):  hello\n"
     ]
    },
    {
     "name": "stdout",
     "output_type": "stream",
     "text": [
      "You entered: hello\n"
     ]
    },
    {
     "name": "stdin",
     "output_type": "stream",
     "text": [
      "Enter something (type 'quit' to stop):  rew\n"
     ]
    },
    {
     "name": "stdout",
     "output_type": "stream",
     "text": [
      "You entered: rew\n"
     ]
    },
    {
     "name": "stdin",
     "output_type": "stream",
     "text": [
      "Enter something (type 'quit' to stop):  quiut\n"
     ]
    },
    {
     "name": "stdout",
     "output_type": "stream",
     "text": [
      "You entered: quiut\n"
     ]
    },
    {
     "name": "stdin",
     "output_type": "stream",
     "text": [
      "Enter something (type 'quit' to stop):  quit\n"
     ]
    },
    {
     "name": "stdout",
     "output_type": "stream",
     "text": [
      "You entered: quit\n"
     ]
    }
   ],
   "source": [
    "user_input = ''\n",
    "while user_input.lower() != 'quit':\n",
    "    user_input = input(\"Enter something (type 'quit' to stop): \")\n",
    "    print(\"You entered:\", user_input)"
   ]
  },
  {
   "cell_type": "code",
   "execution_count": 11,
   "id": "cb1da84f-a7c8-4b98-acc9-ed54e1a0fe9f",
   "metadata": {},
   "outputs": [
    {
     "name": "stdout",
     "output_type": "stream",
     "text": [
      "Cities with high temperature (> 26 degree C):\n",
      "City B - 27degree C\n",
      "City C - 28degree C\n",
      "City D - 35degree C\n"
     ]
    }
   ],
   "source": [
    "climate_data = [\n",
    "    {\"city\": \"City A\", \"temperature\": 25, \"carbon_footprint\": 530},\n",
    "    {\"city\": \"City B\", \"temperature\": 27, \"carbon_footprint\": 600},\n",
    "     {\"city\": \"City C\", \"temperature\": 28, \"carbon_footprint\": 600},\n",
    "    {\"city\": \"City D\", \"temperature\": 35, \"carbon_footprint\": 540},\n",
    "    {\"city\": \"City E\", \"temperature\": 15, \"carbon_footprint\": 50}\n",
    "]\n",
    "\n",
    "high_temp_threshold = 26\n",
    "high_temp_cities = [city for city in climate_data if city[\"temperature\"] > high_temp_threshold]\n",
    "\n",
    "print(\"Cities with high temperature (> 26 degree C):\")\n",
    "for city in high_temp_cities:\n",
    "    print(f\"{city['city']} - {city['temperature']}degree C\")"
   ]
  },
  {
   "cell_type": "code",
   "execution_count": 15,
   "id": "5f915b77-9ca7-44ba-81f6-aa1113461761",
   "metadata": {},
   "outputs": [
    {
     "name": "stdout",
     "output_type": "stream",
     "text": [
      "\n",
      " Average Carbon Footprint: 464.00 kg CO2\n"
     ]
    }
   ],
   "source": [
    "total_carbon = 0\n",
    "for city in climate_data:\n",
    "    total_carbon += city[\"carbon_footprint\"]\n",
    "average_carbon_footprint = total_carbon / len(climate_data)\n",
    "print(f\"\\n Average Carbon Footprint: {average_carbon_footprint:.2f} kg CO2\")"
   ]
  },
  {
   "cell_type": "code",
   "execution_count": 21,
   "id": "86bae72f-5ef2-4c40-91b3-f0254f5d7aef",
   "metadata": {},
   "outputs": [],
   "source": [
    "highest_footprint_city = max(climate_data, key =lambda city: city[\"carbon_footprint\"])"
   ]
  },
  {
   "cell_type": "code",
   "execution_count": 29,
   "id": "a8847bba-4ac5-435c-845a-b05d3705be42",
   "metadata": {},
   "outputs": [
    {
     "name": "stdout",
     "output_type": "stream",
     "text": [
      "\n",
      "City with the highest carbon footprint: \n",
      "City B - 600kg CO20\n"
     ]
    }
   ],
   "source": [
    "print(f\"\\nCity with the highest carbon footprint: \")\n",
    "print(f\"{highest_footprint_city['city']} - {highest_footprint_city['carbon_footprint'] }kg CO20\")"
   ]
  },
  {
   "cell_type": "code",
   "execution_count": null,
   "id": "7dbe1da9-51e6-4ea1-8828-4f6b9d58a122",
   "metadata": {},
   "outputs": [],
   "source": []
  }
 ],
 "metadata": {
  "kernelspec": {
   "display_name": "Python 3 (ipykernel)",
   "language": "python",
   "name": "python3"
  },
  "language_info": {
   "codemirror_mode": {
    "name": "ipython",
    "version": 3
   },
   "file_extension": ".py",
   "mimetype": "text/x-python",
   "name": "python",
   "nbconvert_exporter": "python",
   "pygments_lexer": "ipython3",
   "version": "3.12.7"
  }
 },
 "nbformat": 4,
 "nbformat_minor": 5
}
